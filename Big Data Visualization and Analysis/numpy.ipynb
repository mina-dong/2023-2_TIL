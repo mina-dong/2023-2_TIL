{
 "cells": [
  {
   "cell_type": "code",
   "execution_count": 4,
   "id": "99179ddd-e2bb-424c-9230-d57a4bae01ca",
   "metadata": {
    "scrolled": true
   },
   "outputs": [
    {
     "name": "stdout",
     "output_type": "stream",
     "text": [
      "1.26.0\n"
     ]
    }
   ],
   "source": [
    "import numpy as np\n",
    "print(np.__version__)"
   ]
  },
  {
   "cell_type": "markdown",
   "id": "5b9f405e-d855-4879-b218-c4131785968f",
   "metadata": {},
   "source": [
    "===="
   ]
  },
  {
   "cell_type": "code",
   "execution_count": 3,
   "id": "9b647185-3264-4750-ab56-afe734be458a",
   "metadata": {},
   "outputs": [
    {
     "name": "stdout",
     "output_type": "stream",
     "text": [
      "[[55 55 55]\n",
      " [55 55 55]\n",
      " [55 55 55]]\n"
     ]
    }
   ],
   "source": [
    "# Task: Create an array filled with a single value (55)\n",
    "a = np.full((3,3), 55)\n",
    "print(a)"
   ]
  },
  {
   "cell_type": "code",
   "execution_count": 4,
   "id": "0843dea3-2b49-4a72-92c2-b8ab6be414eb",
   "metadata": {},
   "outputs": [
    {
     "name": "stdout",
     "output_type": "stream",
     "text": [
      "[0. 0. 0. 0. 1. 0. 0. 0. 0. 0.]\n"
     ]
    }
   ],
   "source": [
    "# Task: Create a null vector of size 10 but the fifth value which is 1 \n",
    "a1 = np.zeros(10)\n",
    "a1[4] = 1\n",
    "print(a1)"
   ]
  },
  {
   "cell_type": "code",
   "execution_count": 5,
   "id": "e1fcac90-1655-4e7d-a81c-1b66f32bb155",
   "metadata": {},
   "outputs": [
    {
     "name": "stdout",
     "output_type": "stream",
     "text": [
      "[9 8 7 6 5 4 3 2 1 0]\n"
     ]
    }
   ],
   "source": [
    "# Task: Reverse a vector (first element becomes last)\n",
    "a2 = np.arange(9,-1,-1) \n",
    "print(a2)"
   ]
  },
  {
   "cell_type": "code",
   "execution_count": 6,
   "id": "f46b4bff-193d-4108-91e7-db8b31863f48",
   "metadata": {},
   "outputs": [
    {
     "name": "stdout",
     "output_type": "stream",
     "text": [
      "[[0 1 2]\n",
      " [3 4 5]\n",
      " [6 7 8]]\n"
     ]
    }
   ],
   "source": [
    "# Task: Create a 3x3 matrix with values ranging from 0 to 8 \n",
    "a3 = np.arange(0,9)\n",
    "print(a3.reshape(3,3))"
   ]
  },
  {
   "cell_type": "code",
   "execution_count": 7,
   "id": "7258a675-6b54-49af-b6da-d358b8d96faa",
   "metadata": {},
   "outputs": [
    {
     "name": "stdout",
     "output_type": "stream",
     "text": [
      "[[0. 1. 2. 3. 4.]\n",
      " [0. 1. 2. 3. 4.]\n",
      " [0. 1. 2. 3. 4.]\n",
      " [0. 1. 2. 3. 4.]\n",
      " [0. 1. 2. 3. 4.]]\n"
     ]
    }
   ],
   "source": [
    "# Create a 5x5 matrix with row values ranging from 0 to 4 \n",
    "a = np.zeros([5,5])\n",
    "a += np.arange(5)\n",
    "print(a)"
   ]
  },
  {
   "cell_type": "code",
   "execution_count": 34,
   "id": "41c79e78-40ce-43a4-a63a-bec295731fe1",
   "metadata": {},
   "outputs": [
    {
     "name": "stdout",
     "output_type": "stream",
     "text": [
      "[[[0 0 0 0]\n",
      "  [2 2 2 2]\n",
      "  [0 0 0 0]]\n",
      "\n",
      " [[0 0 0 0]\n",
      "  [2 2 2 2]\n",
      "  [0 0 0 0]]]\n"
     ]
    }
   ],
   "source": [
    "#Create a 3D array with zeros along the second axis\n",
    "a0 = np.full(4,0)\n",
    "a2 = np.full(4,2)\n",
    "\n",
    "arr = np.vstack((a0,a2,a0))\n",
    "\n",
    "result = np.array([arr,arr])\n",
    "\n",
    "print(result)"
   ]
  },
  {
   "cell_type": "code",
   "execution_count": 7,
   "id": "5655c4d1-a01a-4642-b0f0-87aa4fec3960",
   "metadata": {},
   "outputs": [
    {
     "ename": "IndentationError",
     "evalue": "unindent does not match any outer indentation level (<tokenize>, line 18)",
     "output_type": "error",
     "traceback": [
      "\u001b[1;36m  File \u001b[1;32m<tokenize>:18\u001b[1;36m\u001b[0m\n\u001b[1;33m    print(\"\\n\")\u001b[0m\n\u001b[1;37m    ^\u001b[0m\n\u001b[1;31mIndentationError\u001b[0m\u001b[1;31m:\u001b[0m unindent does not match any outer indentation level\n"
     ]
    }
   ],
   "source": [
    "    #How to print the following pattern of nxn using NumPy?\n",
    "\n",
    "\n",
    "a0 = np.eye(8,k=1)\n",
    "a3 = np.eye(8, k=3)\n",
    "a5 = np.eye(8, k=5)\n",
    "a7 = np.eye(8, k=7)\n",
    "\n",
    "b0 = np.eye(8,k=-1)\n",
    "b3 = np.eye(8,k=-3)\n",
    "b5 = np.eye(8,k=-5)\n",
    "b7 = np.eye(8,k=-7)\n",
    "arr = a0+a3+a5+a7+b0+b3+b5+b7\n",
    "\n",
    "for x in arr:\n",
    "    for y in x:\n",
    "        print(y)\n",
    "   print(\"\\n\")    \n",
    "  "
   ]
  },
  {
   "cell_type": "code",
   "execution_count": 97,
   "id": "b0d12e64-554d-4f7d-b3b4-fd32242b7d63",
   "metadata": {},
   "outputs": [
    {
     "name": "stdout",
     "output_type": "stream",
     "text": [
      "[[ 3  2  8]\n",
      " [ 4 12 34]\n",
      " [23 12 67]\n",
      " [ 2  1  8]]\n"
     ]
    }
   ],
   "source": [
    "#Given the following two arrays, add them\n",
    "array = np.array([\n",
    "    [3, 2, 8],\n",
    "    [4, 12, 34],\n",
    "    [23, 12, 67]\n",
    "])\n",
    "\n",
    "newRow = np.array([2, 1, 8])\n",
    "\n",
    "result = np.vstack((array,newRow))\n",
    "\n",
    "print(result)"
   ]
  },
  {
   "cell_type": "code",
   "execution_count": 50,
   "id": "218f4560-a330-49a0-89ef-d403ac2a477c",
   "metadata": {},
   "outputs": [
    {
     "data": {
      "text/plain": [
       "array([-1.5, -1.5, -1.5])"
      ]
     },
     "execution_count": 50,
     "metadata": {},
     "output_type": "execute_result"
    }
   ],
   "source": [
    "#Given the following arrays, calculate ((A+B)*(-A/2))\n",
    "\n",
    "A = np.ones(3)*1\n",
    "B = np.ones(3)*2\n",
    "\n",
    "P1 = np.add(A,B)\n",
    "P2 = np.divide(np.negative(A),2)\n",
    "\n",
    "result = np.multiply(P1,P2)\n",
    "\n",
    "result"
   ]
  },
  {
   "cell_type": "code",
   "execution_count": 98,
   "id": "2d415169-12b2-4e4b-9304-2c69b0edec4d",
   "metadata": {},
   "outputs": [
    {
     "name": "stdout",
     "output_type": "stream",
     "text": [
      "row1: 5.5, row2: 30.6, row3: 34.0\n"
     ]
    }
   ],
   "source": [
    "# Calculate mean of each row of the list\n",
    "\n",
    "list = [\n",
    "    np.array([3, 2, 8, 9]),\t\t\t#5.5\n",
    "    np.array([4, 12, 34, 25, 78]),\t\t#30.6\n",
    "    np.array([23, 12, 67])\t\t\t#34.0\n",
    "]\n",
    "\n",
    "print(\"row1: %0.1f, row2: %0.1f, row3: %0.1f\"\n",
    "      %(np.mean(list[0]), np.mean(list[1]), np.mean(list[2])))"
   ]
  },
  {
   "cell_type": "code",
   "execution_count": 21,
   "id": "a71cac91-e509-44ff-b786-c0c4ad69875d",
   "metadata": {
    "scrolled": true
   },
   "outputs": [
    {
     "name": "stdout",
     "output_type": "stream",
     "text": [
      "0 1 0 1 0 1 0 1 \t\n",
      "1 0 1 0 1 0 1 0 \t\n",
      "0 1 0 1 0 1 0 1 \t\n",
      "1 0 1 0 1 0 1 0 \t\n",
      "0 1 0 1 0 1 0 1 \t\n",
      "1 0 1 0 1 0 1 0 \t\n",
      "0 1 0 1 0 1 0 1 \t\n",
      "1 0 1 0 1 0 1 0 \t\n"
     ]
    }
   ],
   "source": [
    "arr1 = np.array([0,1,0,1,0,1,0,1])\n",
    "arr2 = np.array([1,0,1,0,1,0,1,0])\n",
    "for n in range(4):\n",
    "    for x in arr1:\n",
    "        print (x, end=' ')\n",
    "    print(\"\\t\")\n",
    "    for x in arr2:\n",
    "        print(x, end=' ')\n",
    "    print(\"\\t\")\n"
   ]
  },
  {
   "cell_type": "code",
   "execution_count": null,
   "id": "a7c36342-a872-4368-9dcd-f4303e373801",
   "metadata": {},
   "outputs": [],
   "source": []
  }
 ],
 "metadata": {
  "kernelspec": {
   "display_name": "Python 3 (ipykernel)",
   "language": "python",
   "name": "python3"
  },
  "language_info": {
   "codemirror_mode": {
    "name": "ipython",
    "version": 3
   },
   "file_extension": ".py",
   "mimetype": "text/x-python",
   "name": "python",
   "nbconvert_exporter": "python",
   "pygments_lexer": "ipython3",
   "version": "3.11.5"
  }
 },
 "nbformat": 4,
 "nbformat_minor": 5
}
